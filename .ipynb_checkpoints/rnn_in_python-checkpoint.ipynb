{
 "cells": [
  {
   "cell_type": "markdown",
   "metadata": {},
   "source": [
    "## Recurrent Neural Network"
   ]
  },
  {
   "cell_type": "code",
   "execution_count": 1,
   "metadata": {
    "collapsed": true
   },
   "outputs": [],
   "source": [
    "import copy,numpy as np\n",
    "np.random.seed(0)"
   ]
  },
  {
   "cell_type": "code",
   "execution_count": 2,
   "metadata": {
    "collapsed": true
   },
   "outputs": [],
   "source": [
    "# sigmoid function\n",
    "def sigmoid(x):\n",
    "    output = 1/(1+np.exp(-x))\n",
    "    return output"
   ]
  },
  {
   "cell_type": "code",
   "execution_count": 3,
   "metadata": {
    "collapsed": true
   },
   "outputs": [],
   "source": [
    "# derivative of sigmoid output\n",
    "def dsigmoid(output):\n",
    "    return output*(1-output)"
   ]
  },
  {
   "cell_type": "code",
   "execution_count": 6,
   "metadata": {
    "collapsed": false
   },
   "outputs": [],
   "source": [
    "# training dataset generation\n",
    "int2binary = {}\n",
    "binary_dim = 8\n",
    "\n",
    "largest_number = pow(2,binary_dim)\n",
    "binary = np.unpackbits(np.array([range(largest_number)],dtype=np.uint8).T,axis=1)\n",
    "\n",
    "for i in range(largest_number):\n",
    "    int2binary[i] = binary[i]"
   ]
  },
  {
   "cell_type": "code",
   "execution_count": 7,
   "metadata": {
    "collapsed": true
   },
   "outputs": [],
   "source": [
    "# input variables\n",
    "alpha = 0.1\n",
    "input_dim = 2\n",
    "hidden_dim = 16\n",
    "output_dim = 1"
   ]
  },
  {
   "cell_type": "code",
   "execution_count": 8,
   "metadata": {
    "collapsed": true
   },
   "outputs": [],
   "source": [
    "# initialize weights\n",
    "syn0 = 2*np.random.random((input_dim,hidden_dim)) - 1\n",
    "syn1 = 2*np.random.random((hidden_dim,output_dim)) - 1\n",
    "synh = 2*np.random.random((hidden_dim,hidden_dim)) - 1\n",
    "\n",
    "# weights update\n",
    "syn0_update = np.zeros_like(syn0)\n",
    "syn1_update = np.zeros_like(syn1)\n",
    "synh_update = np.zeros_like(synh)"
   ]
  },
  {
   "cell_type": "code",
   "execution_count": 17,
   "metadata": {
    "collapsed": false
   },
   "outputs": [
    {
     "name": "stdout",
     "output_type": "stream",
     "text": [
      "Error:[4.51879021]\n",
      "Pred:[0 0 0 0 0 0 0 0]\n",
      "True:[1 0 0 1 1 1 1 0]\n",
      "100 + 58 = 0\n",
      "-----------\n",
      "Error:[3.]\n",
      "Pred:[1 1 0 1 1 0 1 1]\n",
      "True:[0 1 0 1 0 0 1 1]\n",
      "74 + 9 = 219\n",
      "-----------\n",
      "Error:[4.5]\n",
      "Pred:[0 1 1 1 1 1 1 1]\n",
      "True:[1 0 1 0 1 0 1 0]\n",
      "111 + 59 = 127\n",
      "-----------\n"
     ]
    },
    {
     "name": "stderr",
     "output_type": "stream",
     "text": [
      "/Users/ujjawalpathak/anaconda/lib/python2.7/site-packages/ipykernel/__main__.py:3: RuntimeWarning: overflow encountered in exp\n",
      "  app.launch_new_instance()\n"
     ]
    },
    {
     "name": "stdout",
     "output_type": "stream",
     "text": [
      "Error:[3.]\n",
      "Pred:[0 1 1 1 1 0 1 0]\n",
      "True:[1 0 1 0 1 0 1 0]\n",
      "112 + 58 = 122\n",
      "-----------\n",
      "Error:[4.5]\n",
      "Pred:[0 1 1 1 1 1 1 1]\n",
      "True:[1 0 1 0 0 1 0 1]\n",
      "63 + 102 = 127\n",
      "-----------\n",
      "Error:[6.5]\n",
      "Pred:[0 1 1 1 1 1 1 1]\n",
      "True:[1 0 0 0 0 1 0 0]\n",
      "47 + 85 = 127\n",
      "-----------\n",
      "Error:[4.5]\n",
      "Pred:[0 1 1 1 1 1 1 0]\n",
      "True:[1 0 0 0 0 1 1 0]\n",
      "122 + 12 = 126\n",
      "-----------\n",
      "Error:[3.]\n",
      "Pred:[0 1 0 0 1 1 1 1]\n",
      "True:[0 1 0 0 1 1 0 0]\n",
      "69 + 7 = 79\n",
      "-----------\n",
      "Error:[3.]\n",
      "Pred:[0 1 1 1 1 0 1 1]\n",
      "True:[1 0 0 1 1 0 1 1]\n",
      "107 + 48 = 123\n",
      "-----------\n",
      "Error:[1.5]\n",
      "Pred:[0 1 1 1 1 1 1 1]\n",
      "True:[0 1 1 0 1 1 1 1]\n",
      "81 + 30 = 127\n",
      "-----------\n"
     ]
    }
   ],
   "source": [
    "# training logic\n",
    "for j in range(10000):\n",
    "    \n",
    "    # generate a simple addition problem\n",
    "    a_int = np.random.randint(largest_number/2)\n",
    "    a = int2binary[a_int]\n",
    "    \n",
    "    b_int = np.random.randint(largest_number/2)\n",
    "    b = int2binary[b_int]\n",
    "    \n",
    "    # true answer\n",
    "    c_int = a_int + b_int\n",
    "    c = int2binary[c_int]\n",
    "    \n",
    "    # store best guess\n",
    "    d = np.zeros_like(c)\n",
    "    \n",
    "    overallError = 0\n",
    "    \n",
    "    layer2_deltas = list()\n",
    "    layer1_values = list()\n",
    "    layer1_values.append(np.zeros(hidden_dim))\n",
    "    \n",
    "    # moving along the positions in the binart encoding\n",
    "    for position in range(binary_dim):\n",
    "        \n",
    "        # generate input and output\n",
    "        X = np.array([[a[binary_dim - position - 1],b[binary_dim - position - 1]]])\n",
    "        y = np.array([[c[binary_dim - position - 1]]]).T\n",
    "        \n",
    "        # hidden layer\n",
    "        layer1 = sigmoid(np.dot(X,syn0) + np.dot(layer1_values[-1],synh))\n",
    "        \n",
    "        # output layer\n",
    "        layer2 = sigmoid(np.dot(layer1,syn1))\n",
    "        \n",
    "        # error\n",
    "        layer2_error = y - layer2\n",
    "        layer2_deltas.append((layer2_error)*dsigmoid(layer2))\n",
    "        overallError += np.abs(layer2_error[0])\n",
    "        \n",
    "        d[binary_dim - position - 1] = np.round(layer2[0][0])\n",
    "        \n",
    "        # store hidden layer\n",
    "        layer1_values.append(copy.deepcopy(layer1))\n",
    "    \n",
    "    future_layer1_delta = np.zeros(hidden_dim)\n",
    "    \n",
    "    for position in range(binary_dim):\n",
    "        X = np.array([[a[position],b[position]]])\n",
    "        layer1 = layer1_values[-position-1]\n",
    "        pre_layer1 = layer1_values[-position-2]\n",
    "        \n",
    "        # error at output layer \n",
    "        layer2_delta = layer2_deltas[-position-1]\n",
    "        # error at hidden layer\n",
    "        layer1_delta = (future_layer1_delta.dot(synh.T) +\n",
    "                       layer2_delta.dot(syn1.T)) * dsigmoid(layer1)\n",
    "        \n",
    "        # update weights\n",
    "        syn1_update += np.atleast_2d(layer1).T.dot(layer2_delta)\n",
    "        synh_update += np.atleast_2d(pre_layer1).T.dot(layer1_delta)\n",
    "        syn0_update += X.T.dot(layer1_delta)\n",
    "        \n",
    "        future_layer1_delta = layer1_delta\n",
    "    \n",
    "    syn0 += syn0_update * alpha\n",
    "    syn1 += syn1_update * alpha\n",
    "    synh += synh_update * alpha\n",
    "    \n",
    "    # print progress\n",
    "    if (j % 1000 == 0):\n",
    "        print \"Error:\" + str(overallError)\n",
    "        print \"Pred:\" + str(d)\n",
    "        print \"True:\" + str(c)\n",
    "        \n",
    "        out = 0\n",
    "        for index,x in enumerate(reversed(d)):\n",
    "            out += x * pow(2,index)\n",
    "        print str(a_int) + \" + \" + str(b_int) + \" = \" + str(out)\n",
    "        print \"-----------\"\n",
    "        "
   ]
  }
 ],
 "metadata": {
  "anaconda-cloud": {},
  "kernelspec": {
   "display_name": "Python [conda env:anaconda]",
   "language": "python",
   "name": "conda-env-anaconda-py"
  },
  "language_info": {
   "codemirror_mode": {
    "name": "ipython",
    "version": 2
   },
   "file_extension": ".py",
   "mimetype": "text/x-python",
   "name": "python",
   "nbconvert_exporter": "python",
   "pygments_lexer": "ipython2",
   "version": "2.7.12"
  }
 },
 "nbformat": 4,
 "nbformat_minor": 1
}
